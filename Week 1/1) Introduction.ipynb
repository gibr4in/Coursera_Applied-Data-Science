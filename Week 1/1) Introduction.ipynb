{
 "cells": [
  {
   "cell_type": "markdown",
   "metadata": {},
   "source": [
    "## Business understanding"
   ]
  },
  {
   "cell_type": "markdown",
   "metadata": {},
   "source": [
    "The number of car crashes in the US have fallen since 2005; nonetheless, motor vehicle crashes are still the leading cause of death for Americans under 30 [[1](https://www.cdc.gov/winnablebattles/report/motor.html)]. Furthermore, the US Department of Transportation estimated in 2010 that car collisions took 242 billion USD off the American economy [[2](https://crashstats.nhtsa.dot.gov/Api/Public/ViewPublication/812013)], mainly due to lost of productivity, medical costs, legal costs, emergency services, insurance, property damage, etc. \n",
    "\n",
    "According to Rolison *et al*.[[3](https://doi.org/10.1016/j.aap.2018.02.025)], the main factors behind a car collision are: failure to look properly, loss of control, failure to judge another person's path or speed, traveling too fast for conditions, slippery roads, and carelessness. Knowing the causes behind a car collision could help to make sure they do not happen in the first place. Preventing vehicle collisions could not only help to avoid the loss of many young American lives (and the emotional burden that brings to their loved ones), but also save billions of dollars to the US economy. In other words, preventing vechicle collisions will improve the quality of life of millions of people.\n",
    "\n",
    "The objective of this project is to use machine learning to develop a model that can warn the driver for the posibility of them getting into a car accident, and its severity, given the weather and road conditions. This could help the driver pay more attention when driving in areas where the probability of an accident is higher, or even change the route to a safer one. The success of this project can be of hight interest to both drivers and the local Department of Transportation of different cities accross the US, as preventing collisions could save dollars (not to mention lives) from both the drivers' pockets, and the local governments. "
   ]
  },
  {
   "cell_type": "code",
   "execution_count": null,
   "metadata": {},
   "outputs": [],
   "source": []
  }
 ],
 "metadata": {
  "kernelspec": {
   "display_name": "Python 3",
   "language": "python",
   "name": "python3"
  },
  "language_info": {
   "codemirror_mode": {
    "name": "ipython",
    "version": 3
   },
   "file_extension": ".py",
   "mimetype": "text/x-python",
   "name": "python",
   "nbconvert_exporter": "python",
   "pygments_lexer": "ipython3",
   "version": "3.8.3"
  }
 },
 "nbformat": 4,
 "nbformat_minor": 4
}
